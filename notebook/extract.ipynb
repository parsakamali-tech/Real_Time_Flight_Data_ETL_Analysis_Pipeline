{
 "cells": [
  {
   "cell_type": "code",
   "execution_count": 3,
   "id": "e39f292d",
   "metadata": {},
   "outputs": [],
   "source": [
    "import requests as req\n",
    "import json\n",
    "from pandas import json_normalize\n",
    "import pandas as pd\n",
    "import os"
   ]
  },
  {
   "cell_type": "markdown",
   "id": "6ac523fd",
   "metadata": {},
   "source": [
    "Getting The Data From Aviationstack.com API With My API KEY & Saving It"
   ]
  },
  {
   "cell_type": "code",
   "execution_count": null,
   "id": "6f33f3f5",
   "metadata": {},
   "outputs": [],
   "source": [
    "url = \"http://api.aviationstack.com/v1/flights\"\n",
    "params = {\n",
    "    \"access_key\": \"187b8cc2b421cb258090252787989971\"\n",
    "}\n",
    "respond = req.get(url,params=params)\n",
    "data = respond.json()\n",
    "with open(\"..//database//api_data//api_data.json\",\"w\",encoding=\"utf-8\") as f:\n",
    "    json.dump(data,f)"
   ]
  },
  {
   "cell_type": "markdown",
   "id": "807a3431",
   "metadata": {},
   "source": [
    "Loading The Data That I Get From API(Because I Have Limitation For Requests)"
   ]
  },
  {
   "cell_type": "code",
   "execution_count": null,
   "id": "f204233e",
   "metadata": {},
   "outputs": [],
   "source": [
    "with open(\"..//database//api_data//api_data.json\", 'r', encoding='utf-8') as f:\n",
    "    data = json.load(f)"
   ]
  },
  {
   "cell_type": "markdown",
   "id": "30e93c48",
   "metadata": {},
   "source": [
    "Transforming The .json To DataFrame And Normalize It(Beacause Some Column Has Columns So I Seperate Them)"
   ]
  },
  {
   "cell_type": "code",
   "execution_count": 6,
   "id": "789cdbaa",
   "metadata": {},
   "outputs": [],
   "source": [
    "df_normalized = pd.json_normalize(data['data'], sep='_')"
   ]
  },
  {
   "cell_type": "markdown",
   "id": "3d71992e",
   "metadata": {},
   "source": [
    "Saving The Dataframe As .csv"
   ]
  },
  {
   "cell_type": "code",
   "execution_count": null,
   "id": "786b84a4",
   "metadata": {},
   "outputs": [],
   "source": [
    "df_normalized.to_csv('..//database//transformed_data//transformed_data.csv' , index=False)"
   ]
  }
 ],
 "metadata": {
  "kernelspec": {
   "display_name": "Python 3",
   "language": "python",
   "name": "python3"
  },
  "language_info": {
   "codemirror_mode": {
    "name": "ipython",
    "version": 3
   },
   "file_extension": ".py",
   "mimetype": "text/x-python",
   "name": "python",
   "nbconvert_exporter": "python",
   "pygments_lexer": "ipython3",
   "version": "3.13.1"
  }
 },
 "nbformat": 4,
 "nbformat_minor": 5
}
